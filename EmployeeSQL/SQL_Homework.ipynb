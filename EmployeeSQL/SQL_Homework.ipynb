{
 "cells": [
  {
   "cell_type": "markdown",
   "metadata": {},
   "source": [
    "Import the SQL database into Pandas. (Yes, you could read the CSVs directly in Pandas, but you are, after all, trying to prove your technical mettle.) This step may require some research. Feel free to use the code below to get started. Be sure to make any necessary modifications for your username, password, host, port, and database name:"
   ]
  },
  {
   "cell_type": "code",
   "execution_count": 5,
   "metadata": {},
   "outputs": [
    {
     "output_type": "stream",
     "name": "stdout",
     "text": "hawkeyes\n"
    }
   ],
   "source": [
    "import pandas as pd\n",
    "from sqlalchemy import create_engine\n",
    "import matplotlib.pyplot as plt\n",
    "from config_TC import pgrs_pw\n",
    "print(pgrs_pw)"
   ]
  },
  {
   "cell_type": "code",
   "execution_count": null,
   "metadata": {},
   "outputs": [],
   "source": [
    "\n",
    "host = \"localhost\"\n",
    "user = \"postgres\"\n",
    "port = \"5432\"\n",
    "passwd = pgrs_pw\n",
    "db = \"Employee_SQL\"\n",
    "\n",
    "engine = create_engine(f'postgresql://{user}:{passwd}@{host}:{port}/{db}')\n",
    "connection = engine.connect()\n"
   ]
  },
  {
   "cell_type": "code",
   "execution_count": null,
   "metadata": {},
   "outputs": [],
   "source": [
    "employees_sql_query = pd.read_sql_query('select * from employees;', connection)\n",
    "\n",
    "employees_df = pd.DataFrame(employees_sql_query, columns=['emp_no','emp_title_id','birth_date','first_name', 'last_name', 'sex', 'hire_date'])\n",
    "print (employees_df)"
   ]
  },
  {
   "cell_type": "code",
   "execution_count": null,
   "metadata": {},
   "outputs": [],
   "source": [
    "salaries_sql_query = pd.read_sql_query('select * from salaries;', connection)\n",
    "\n",
    "salaries_df = pd.DataFrame(salaries_sql_query, columns=['emp_no','salary'])\n",
    "salaries_df.plot.hist(bins=100)\n",
    "plt.title('Salary Distribution')\n",
    "plt.xlabel('Salary')\n",
    "plt.show()"
   ]
  },
  {
   "cell_type": "code",
   "execution_count": null,
   "metadata": {},
   "outputs": [],
   "source": [
    "titles_sql_query = pd.read_sql_query('select * from titles;', connection)\n",
    "\n",
    "titles_df = pd.DataFrame(titles_sql_query, columns=['title_id','title'])\n",
    "print (titles_df)"
   ]
  },
  {
   "cell_type": "code",
   "execution_count": null,
   "metadata": {},
   "outputs": [],
   "source": []
  }
 ],
 "metadata": {
  "language_info": {
   "codemirror_mode": {
    "name": "ipython",
    "version": 3
   },
   "file_extension": ".py",
   "mimetype": "text/x-python",
   "name": "python",
   "nbconvert_exporter": "python",
   "pygments_lexer": "ipython3",
   "version": "3.6.10-final"
  },
  "orig_nbformat": 2,
  "kernelspec": {
   "name": "python361064bitpythondatacondaab47c43dfe824d4eb95e9e8f15b48370",
   "display_name": "Python 3.6.10 64-bit ('PythonData': conda)"
  }
 },
 "nbformat": 4,
 "nbformat_minor": 2
}